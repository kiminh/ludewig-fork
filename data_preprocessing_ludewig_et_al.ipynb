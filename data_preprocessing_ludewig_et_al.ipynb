{
 "cells": [
  {
   "cell_type": "code",
   "execution_count": null,
   "metadata": {},
   "outputs": [],
   "source": [
    "import json\n",
    "import pandas as pd\n",
    "\n",
    "# The implementation by Ludewig et al. assumes music data to be of the format:\n",
    "#\n",
    "#         UserId\tSessionId\tItemId\tTime\tArtistId\n",
    "#         27063\t    1889046     2691760\t1402997433\t337496\n",
    "#         27063\t    1889046\t    2691717\t1402997784\t337496\n",
    "#         ...\n",
    "#\n",
    "# However, they do not use the ArtistId column in their implemenation outside\n",
    "# of the ArtistDiversity and ArtistCoherence evaluation metrics. We choose to \n",
    "# ignore these as we do not employ those metrics. \n",
    "\n",
    "with open(\"Baselines/STABR/data/all_sessions.json\", \"r\") as source:\n",
    "    sessions = json.load(source)\n",
    "\n",
    "with open(\"Baselines/STABR/data/user_ids_and_session_ids.json\", \"r\") as source:\n",
    "    user_ids = json.load(source)"
   ]
  },
  {
   "cell_type": "code",
   "execution_count": null,
   "metadata": {},
   "outputs": [],
   "source": [
    "tracks = []\n",
    "for s in sessions:\n",
    "    for t in sessions[s]:\n",
    "        tracks.append(int(t[0]))\n",
    "print(len(tracks))\n",
    "print(len(set(tracks)))"
   ]
  },
  {
   "cell_type": "code",
   "execution_count": null,
   "metadata": {},
   "outputs": [],
   "source": [
    "with open(\"all_interactions.csv\", \"w\") as out:\n",
    "    out.write(\"UserId,SessionId,ItemId,Time\\n\")\n",
    "\n",
    "    for user, session_ids in user_ids.items():\n",
    "        for session_id in session_ids:\n",
    "            for entry in sessions[str(session_id)]:\n",
    "                out.write(\"{},{},{},{}\\n\".format(user, session_id, entry[0], entry[1]))\n",
    "        print(\"Completed \", user)"
   ]
  },
  {
   "cell_type": "code",
   "execution_count": null,
   "metadata": {},
   "outputs": [],
   "source": [
    "import math\n",
    "TRAIN_TEST_SPLIT = 0.7\n",
    "for user, session_ids in user_ids.items():\n",
    "    # Start by generating 70% train\n",
    "    split_index = math.ceil(TRAIN_TEST_SPLIT * len(session_ids))\n",
    "    with open(\"preprocessed_train.csv\", \"w\") as out:\n",
    "        out.write(\"SessionId,ItemId,Time\\n\")\n",
    "        for session_id in session_ids[:split_index]:\n",
    "            for entry in sessions[str(session_id)]:\n",
    "                timestamp = int(pd.to_datetime(entry[1]).value / 1e9)\n",
    "                out.write(\"{}\\t{}\\t{}\\n\".format(session_id, int(entry[0]), timestamp))\n",
    "    # ... and then generate a 30% test\n",
    "    with open(\"preprocessed_test.csv\", \"w\") as out:\n",
    "        out.write(\"SessionId,ItemId,Time\\n\")\n",
    "        for session_id in session_ids[split_index:]:\n",
    "            for entry in sessions[str(session_id)]:\n",
    "                timestamp = int(pd.to_datetime(entry[1]).value / 1e9)\n",
    "                out.write(\"{}\\t{}\\t{}\\n\".format(session_id, int(entry[0]), timestamp))\n",
    "\n",
    "    print(\"Completed \", user)"
   ]
  },
  {
   "cell_type": "code",
   "execution_count": null,
   "metadata": {},
   "outputs": [],
   "source": [
    "with open(\"preprocessed_ludewig.csv\", \"w\") as out:\n",
    "    out.write(\"UserId,SessionId,ItemId,Time\\n\")\n",
    "\n",
    "    for user, session_ids in user_ids.items():\n",
    "        for session_id in session_ids:\n",
    "            for entry in sessions[str(session_id)]:\n",
    "                timestamp = int(pd.to_datetime(entry[1]).value / 1e9)\n",
    "                out.write(\"{},{},{},{}\\n\".format(int(user), session_id, int(entry[0]), timestamp))\n",
    "        print(\"Completed \", user)"
   ]
  },
  {
   "cell_type": "code",
   "execution_count": null,
   "metadata": {},
   "outputs": [],
   "source": [
    "with open(\"preprocessed_ludewig.csv\", \"w\") as out:\n",
    "    session_id = 0\n",
    "    out.write(\"UserId,SessionId,ItemId,Time\\n\")\n",
    "    for user, session in sessions.items():\n",
    "        for entry in session:\n",
    "            timestamp = int(pd.to_datetime(entry[1]).value / 1e9)\n",
    "            out.write(\"{},{},{},{}\\n\".format(int(user), session_id, int(entry[0]), timestamp))\n",
    "            session_id += 1\n",
    "        print(\"Done\", user)"
   ]
  }
 ],
 "metadata": {
  "language_info": {
   "name": "python",
   "codemirror_mode": {
    "name": "ipython",
    "version": 3
   },
   "version": "3.7.7-final"
  },
  "orig_nbformat": 2,
  "file_extension": ".py",
  "mimetype": "text/x-python",
  "name": "python",
  "npconvert_exporter": "python",
  "pygments_lexer": "ipython3",
  "version": 3,
  "kernelspec": {
   "name": "python37764bit2711622096e544e6a77d7676ee3304dc",
   "display_name": "Python 3.7.7 64-bit"
  }
 },
 "nbformat": 4,
 "nbformat_minor": 2
}